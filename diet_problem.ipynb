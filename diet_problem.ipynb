{
 "cells": [
  {
   "cell_type": "code",
   "execution_count": 1,
   "id": "3bed2c1c",
   "metadata": {},
   "outputs": [],
   "source": [
    "import pandas as pd\n",
    "from pulp import *"
   ]
  },
  {
   "cell_type": "code",
   "execution_count": 2,
   "id": "04ec7c06",
   "metadata": {},
   "outputs": [
    {
     "data": {
      "text/html": [
       "<div>\n",
       "<style scoped>\n",
       "    .dataframe tbody tr th:only-of-type {\n",
       "        vertical-align: middle;\n",
       "    }\n",
       "\n",
       "    .dataframe tbody tr th {\n",
       "        vertical-align: top;\n",
       "    }\n",
       "\n",
       "    .dataframe thead th {\n",
       "        text-align: right;\n",
       "    }\n",
       "</style>\n",
       "<table border=\"1\" class=\"dataframe\">\n",
       "  <thead>\n",
       "    <tr style=\"text-align: right;\">\n",
       "      <th></th>\n",
       "      <th>Foods</th>\n",
       "      <th>Price/ Serving</th>\n",
       "      <th>Serving Size</th>\n",
       "      <th>Calories</th>\n",
       "      <th>Cholesterol mg</th>\n",
       "      <th>Total_Fat g</th>\n",
       "      <th>Sodium mg</th>\n",
       "      <th>Carbohydrates g</th>\n",
       "      <th>Dietary_Fiber g</th>\n",
       "      <th>Protein g</th>\n",
       "      <th>Vit_A IU</th>\n",
       "      <th>Vit_C IU</th>\n",
       "      <th>Calcium mg</th>\n",
       "      <th>Iron mg</th>\n",
       "      <th>Celiac</th>\n",
       "    </tr>\n",
       "  </thead>\n",
       "  <tbody>\n",
       "    <tr>\n",
       "      <th>0</th>\n",
       "      <td>Frozen Broccoli</td>\n",
       "      <td>0.16</td>\n",
       "      <td>10 Oz Pkg</td>\n",
       "      <td>73.8</td>\n",
       "      <td>0.0</td>\n",
       "      <td>0.8</td>\n",
       "      <td>68.2</td>\n",
       "      <td>13.6</td>\n",
       "      <td>8.5</td>\n",
       "      <td>8.0</td>\n",
       "      <td>5867.4</td>\n",
       "      <td>160.2</td>\n",
       "      <td>159.0</td>\n",
       "      <td>2.3</td>\n",
       "      <td>NaN</td>\n",
       "    </tr>\n",
       "    <tr>\n",
       "      <th>1</th>\n",
       "      <td>Carrots,Raw</td>\n",
       "      <td>0.07</td>\n",
       "      <td>1/2 Cup Shredded</td>\n",
       "      <td>23.7</td>\n",
       "      <td>0.0</td>\n",
       "      <td>0.1</td>\n",
       "      <td>19.2</td>\n",
       "      <td>5.6</td>\n",
       "      <td>1.6</td>\n",
       "      <td>0.6</td>\n",
       "      <td>15471.0</td>\n",
       "      <td>5.1</td>\n",
       "      <td>14.9</td>\n",
       "      <td>0.3</td>\n",
       "      <td>NaN</td>\n",
       "    </tr>\n",
       "    <tr>\n",
       "      <th>2</th>\n",
       "      <td>Celery, Raw</td>\n",
       "      <td>0.04</td>\n",
       "      <td>1 Stalk</td>\n",
       "      <td>6.4</td>\n",
       "      <td>0.0</td>\n",
       "      <td>0.1</td>\n",
       "      <td>34.8</td>\n",
       "      <td>1.5</td>\n",
       "      <td>0.7</td>\n",
       "      <td>0.3</td>\n",
       "      <td>53.6</td>\n",
       "      <td>2.8</td>\n",
       "      <td>16.0</td>\n",
       "      <td>0.2</td>\n",
       "      <td>NaN</td>\n",
       "    </tr>\n",
       "    <tr>\n",
       "      <th>3</th>\n",
       "      <td>Frozen Corn</td>\n",
       "      <td>0.18</td>\n",
       "      <td>1/2 Cup</td>\n",
       "      <td>72.2</td>\n",
       "      <td>0.0</td>\n",
       "      <td>0.6</td>\n",
       "      <td>2.5</td>\n",
       "      <td>17.1</td>\n",
       "      <td>2.0</td>\n",
       "      <td>2.5</td>\n",
       "      <td>106.6</td>\n",
       "      <td>5.2</td>\n",
       "      <td>3.3</td>\n",
       "      <td>0.3</td>\n",
       "      <td>NaN</td>\n",
       "    </tr>\n",
       "    <tr>\n",
       "      <th>4</th>\n",
       "      <td>Lettuce,Iceberg,Raw</td>\n",
       "      <td>0.02</td>\n",
       "      <td>1 Leaf</td>\n",
       "      <td>2.6</td>\n",
       "      <td>0.0</td>\n",
       "      <td>0.0</td>\n",
       "      <td>1.8</td>\n",
       "      <td>0.4</td>\n",
       "      <td>0.3</td>\n",
       "      <td>0.2</td>\n",
       "      <td>66.0</td>\n",
       "      <td>0.8</td>\n",
       "      <td>3.8</td>\n",
       "      <td>0.1</td>\n",
       "      <td>NaN</td>\n",
       "    </tr>\n",
       "    <tr>\n",
       "      <th>5</th>\n",
       "      <td>Peppers, Sweet, Raw</td>\n",
       "      <td>0.53</td>\n",
       "      <td>1 Pepper</td>\n",
       "      <td>20.0</td>\n",
       "      <td>0.0</td>\n",
       "      <td>0.1</td>\n",
       "      <td>1.5</td>\n",
       "      <td>4.8</td>\n",
       "      <td>1.3</td>\n",
       "      <td>0.7</td>\n",
       "      <td>467.7</td>\n",
       "      <td>66.1</td>\n",
       "      <td>6.7</td>\n",
       "      <td>0.3</td>\n",
       "      <td>NaN</td>\n",
       "    </tr>\n",
       "    <tr>\n",
       "      <th>6</th>\n",
       "      <td>Potatoes, Baked</td>\n",
       "      <td>0.06</td>\n",
       "      <td>1/2 Cup</td>\n",
       "      <td>171.5</td>\n",
       "      <td>0.0</td>\n",
       "      <td>0.2</td>\n",
       "      <td>15.2</td>\n",
       "      <td>39.9</td>\n",
       "      <td>3.2</td>\n",
       "      <td>3.7</td>\n",
       "      <td>0.0</td>\n",
       "      <td>15.6</td>\n",
       "      <td>22.7</td>\n",
       "      <td>4.3</td>\n",
       "      <td>NaN</td>\n",
       "    </tr>\n",
       "    <tr>\n",
       "      <th>7</th>\n",
       "      <td>Tofu</td>\n",
       "      <td>0.31</td>\n",
       "      <td>1/4 block</td>\n",
       "      <td>88.2</td>\n",
       "      <td>0.0</td>\n",
       "      <td>5.5</td>\n",
       "      <td>8.1</td>\n",
       "      <td>2.2</td>\n",
       "      <td>1.4</td>\n",
       "      <td>9.4</td>\n",
       "      <td>98.6</td>\n",
       "      <td>0.1</td>\n",
       "      <td>121.8</td>\n",
       "      <td>6.2</td>\n",
       "      <td>NaN</td>\n",
       "    </tr>\n",
       "    <tr>\n",
       "      <th>8</th>\n",
       "      <td>Roasted Chicken</td>\n",
       "      <td>0.84</td>\n",
       "      <td>1 lb chicken</td>\n",
       "      <td>277.4</td>\n",
       "      <td>129.9</td>\n",
       "      <td>10.8</td>\n",
       "      <td>125.6</td>\n",
       "      <td>0.0</td>\n",
       "      <td>0.0</td>\n",
       "      <td>42.2</td>\n",
       "      <td>77.4</td>\n",
       "      <td>0.0</td>\n",
       "      <td>21.9</td>\n",
       "      <td>1.8</td>\n",
       "      <td>NaN</td>\n",
       "    </tr>\n",
       "    <tr>\n",
       "      <th>9</th>\n",
       "      <td>Spaghetti W/ Sauce</td>\n",
       "      <td>0.78</td>\n",
       "      <td>1 1/2 Cup</td>\n",
       "      <td>358.2</td>\n",
       "      <td>0.0</td>\n",
       "      <td>12.3</td>\n",
       "      <td>1237.1</td>\n",
       "      <td>58.3</td>\n",
       "      <td>11.6</td>\n",
       "      <td>8.2</td>\n",
       "      <td>3055.2</td>\n",
       "      <td>27.9</td>\n",
       "      <td>80.2</td>\n",
       "      <td>2.3</td>\n",
       "      <td>x</td>\n",
       "    </tr>\n",
       "  </tbody>\n",
       "</table>\n",
       "</div>"
      ],
      "text/plain": [
       "                 Foods  Price/ Serving      Serving Size  Calories  \\\n",
       "0      Frozen Broccoli            0.16         10 Oz Pkg      73.8   \n",
       "1          Carrots,Raw            0.07  1/2 Cup Shredded      23.7   \n",
       "2          Celery, Raw            0.04           1 Stalk       6.4   \n",
       "3          Frozen Corn            0.18           1/2 Cup      72.2   \n",
       "4  Lettuce,Iceberg,Raw            0.02            1 Leaf       2.6   \n",
       "5  Peppers, Sweet, Raw            0.53          1 Pepper      20.0   \n",
       "6      Potatoes, Baked            0.06           1/2 Cup     171.5   \n",
       "7                 Tofu            0.31         1/4 block      88.2   \n",
       "8      Roasted Chicken            0.84      1 lb chicken     277.4   \n",
       "9   Spaghetti W/ Sauce            0.78         1 1/2 Cup     358.2   \n",
       "\n",
       "   Cholesterol mg  Total_Fat g  Sodium mg  Carbohydrates g  Dietary_Fiber g  \\\n",
       "0             0.0          0.8       68.2             13.6              8.5   \n",
       "1             0.0          0.1       19.2              5.6              1.6   \n",
       "2             0.0          0.1       34.8              1.5              0.7   \n",
       "3             0.0          0.6        2.5             17.1              2.0   \n",
       "4             0.0          0.0        1.8              0.4              0.3   \n",
       "5             0.0          0.1        1.5              4.8              1.3   \n",
       "6             0.0          0.2       15.2             39.9              3.2   \n",
       "7             0.0          5.5        8.1              2.2              1.4   \n",
       "8           129.9         10.8      125.6              0.0              0.0   \n",
       "9             0.0         12.3     1237.1             58.3             11.6   \n",
       "\n",
       "   Protein g  Vit_A IU  Vit_C IU  Calcium mg  Iron mg Celiac  \n",
       "0        8.0    5867.4     160.2       159.0      2.3    NaN  \n",
       "1        0.6   15471.0       5.1        14.9      0.3    NaN  \n",
       "2        0.3      53.6       2.8        16.0      0.2    NaN  \n",
       "3        2.5     106.6       5.2         3.3      0.3    NaN  \n",
       "4        0.2      66.0       0.8         3.8      0.1    NaN  \n",
       "5        0.7     467.7      66.1         6.7      0.3    NaN  \n",
       "6        3.7       0.0      15.6        22.7      4.3    NaN  \n",
       "7        9.4      98.6       0.1       121.8      6.2    NaN  \n",
       "8       42.2      77.4       0.0        21.9      1.8    NaN  \n",
       "9        8.2    3055.2      27.9        80.2      2.3      x  "
      ]
     },
     "execution_count": 2,
     "metadata": {},
     "output_type": "execute_result"
    }
   ],
   "source": [
    "df = pd.read_excel(\"diet_problem.xls\")\n",
    "df.head(10)"
   ]
  },
  {
   "cell_type": "code",
   "execution_count": 3,
   "id": "cdc469b7",
   "metadata": {},
   "outputs": [
    {
     "data": {
      "text/plain": [
       "56"
      ]
     },
     "execution_count": 3,
     "metadata": {},
     "output_type": "execute_result"
    }
   ],
   "source": [
    "len(df)"
   ]
  },
  {
   "cell_type": "code",
   "execution_count": 4,
   "id": "4207886f",
   "metadata": {},
   "outputs": [
    {
     "name": "stderr",
     "output_type": "stream",
     "text": [
      "C:\\Users\\fbmer\\anaconda3\\lib\\site-packages\\pulp\\pulp.py:1352: UserWarning: Spaces are not permitted in the name. Converted to '_'\n",
      "  warnings.warn(\"Spaces are not permitted in the name. Converted to '_'\")\n"
     ]
    }
   ],
   "source": [
    "prob = LpProblem(\"Diet Problem\",LpMinimize)"
   ]
  },
  {
   "cell_type": "code",
   "execution_count": 5,
   "id": "3d2de191",
   "metadata": {},
   "outputs": [],
   "source": [
    "food_names = list(df['Foods'])"
   ]
  },
  {
   "cell_type": "code",
   "execution_count": 6,
   "id": "120d6123",
   "metadata": {},
   "outputs": [],
   "source": [
    "costs = dict(zip(food_names,df['Price/ Serving']))\n",
    "calories = dict(zip(food_names,df['Calories']))\n",
    "cholesterol = dict(zip(food_names,df['Cholesterol mg']))\n",
    "fat = dict(zip(food_names,df['Total_Fat g']))\n",
    "sodium = dict(zip(food_names,df['Sodium mg']))\n",
    "carbs = dict(zip(food_names,df['Carbohydrates g']))\n",
    "fiber = dict(zip(food_names,df['Dietary_Fiber g']))\n",
    "protein = dict(zip(food_names,df['Protein g']))\n",
    "vit_A = dict(zip(food_names,df['Vit_A IU']))\n",
    "vit_C = dict(zip(food_names,df['Vit_C IU']))\n",
    "calcium = dict(zip(food_names,df['Calcium mg']))\n",
    "iron = dict(zip(food_names,df['Iron mg']))"
   ]
  },
  {
   "cell_type": "code",
   "execution_count": 7,
   "id": "ff056ade",
   "metadata": {},
   "outputs": [],
   "source": [
    "food_prt = LpVariable.dicts(\"Portion\",food_names,0,cat='Continuous')"
   ]
  },
  {
   "cell_type": "code",
   "execution_count": 8,
   "id": "4616f0a5",
   "metadata": {},
   "outputs": [],
   "source": [
    "food_chosen = LpVariable.dicts(\"Chosen\",food_names,cat='Binary')"
   ]
  },
  {
   "cell_type": "code",
   "execution_count": 9,
   "id": "0cc35e08",
   "metadata": {},
   "outputs": [],
   "source": [
    "prob += lpSum([costs[i]*food_prt[i] for i in food_names])"
   ]
  },
  {
   "cell_type": "code",
   "execution_count": 10,
   "id": "d3e85b90",
   "metadata": {},
   "outputs": [],
   "source": [
    "# Calorie \n",
    "prob += lpSum([calories[f] * food_prt[f] for f in food_names]) >= 1600.0\n",
    "prob += lpSum([calories[f] * food_prt[f] for f in food_names]) <= 2400.0\n",
    "\n",
    "# Cholesterol\n",
    "prob += lpSum([cholesterol[f] * food_prt[f] for f in food_names]) >= 240.0\n",
    "prob += lpSum([cholesterol[f] * food_prt[f] for f in food_names]) <= 360.0\n",
    "\n",
    "# Fat\n",
    "prob += lpSum([fat[f] * food_prt[f] for f in food_names]) >= 62.4\n",
    "prob += lpSum([fat[f] * food_prt[f] for f in food_names]) <= 93.6\n",
    "\n",
    "# Sodium\n",
    "prob += lpSum([sodium[f] * food_prt[f] for f in food_names]) >= 1840.0\n",
    "prob += lpSum([sodium[f] * food_prt[f] for f in food_names]) <= 2760.0\n",
    "\n",
    "# Carbs\n",
    "prob += lpSum([carbs[f] * food_prt[f] for f in food_names]) >= 220.0\n",
    "prob += lpSum([carbs[f] * food_prt[f] for f in food_names]) <= 330.0\n",
    "\n",
    "# Fiber\n",
    "prob += lpSum([fiber[f] * food_prt[f] for f in food_names]) >= 22.4\n",
    "prob += lpSum([fiber[f] * food_prt[f] for f in food_names]) <= 33.6\n",
    "\n",
    "# Protein\n",
    "prob += lpSum([protein[f] * food_prt[f] for f in food_names]) >= 40.0\n",
    "prob += lpSum([protein[f] * food_prt[f] for f in food_names]) <= 60.0\n",
    "\n",
    "# Vitamin A\n",
    "prob += lpSum([vit_A[f] * food_prt[f] for f in food_names]) >= 2400.0\n",
    "prob += lpSum([vit_A[f] * food_prt[f] for f in food_names]) <= 3600.0\n",
    "\n",
    "# Vitamin C\n",
    "prob += lpSum([vit_C[f] * food_prt[f] for f in food_names]) >= 72.0\n",
    "prob += lpSum([vit_C[f] * food_prt[f] for f in food_names]) <= 108.0\n",
    "\n",
    "# Calcium\n",
    "prob += lpSum([calcium[f] * food_prt[f] for f in food_names]) >= 1040.0\n",
    "prob += lpSum([calcium[f] * food_prt[f] for f in food_names]) <= 1560.0\n",
    "\n",
    "# Iron\n",
    "prob += lpSum([iron[f] * food_prt[f] for f in food_names]) >= 14.4\n",
    "prob += lpSum([iron[f] * food_prt[f] for f in food_names]) <= 21.6"
   ]
  },
  {
   "cell_type": "code",
   "execution_count": 11,
   "id": "e0a43e90",
   "metadata": {},
   "outputs": [],
   "source": [
    "for f in food_names:\n",
    "    prob += food_prt[f] >= food_chosen[f]*0.5\n",
    "    prob += food_prt[f] <= food_chosen[f]*10"
   ]
  },
  {
   "cell_type": "code",
   "execution_count": 12,
   "id": "354460fe",
   "metadata": {},
   "outputs": [],
   "source": [
    "carb_choices = ['White Bread','Wheat Bread','Potatoes, Baked','Spaghetti W/ Sauce','Bagels','Couscous','White Rice']\n",
    "prob += lpSum([food_chosen[c] for c in carb_choices]) >= 3.0"
   ]
  },
  {
   "cell_type": "code",
   "execution_count": 13,
   "id": "9107de76",
   "metadata": {},
   "outputs": [],
   "source": [
    "vege_choices = ['Frozen Broccoli','Celery, Raw','Carrots,Raw','Peppers, Sweet, Raw','Lettuce,Iceberg,Raw']\n",
    "prob += lpSum([food_chosen[v] for v in vege_choices]) >= 1.0\n",
    "prob += lpSum([food_chosen[v] for v in vege_choices]) <= 2.0"
   ]
  },
  {
   "cell_type": "code",
   "execution_count": 14,
   "id": "a485d482",
   "metadata": {},
   "outputs": [],
   "source": [
    "prob += food_chosen['Malt-O-Meal,Choc'] == 0\n",
    "prob += food_chosen['Chocolate Chip Cookies'] == 0"
   ]
  },
  {
   "cell_type": "code",
   "execution_count": 15,
   "id": "ab253203",
   "metadata": {},
   "outputs": [
    {
     "name": "stdout",
     "output_type": "stream",
     "text": [
      "Status: Optimal\n"
     ]
    }
   ],
   "source": [
    "prob.solve()\n",
    "print(\"Status:\", LpStatus[prob.status])"
   ]
  },
  {
   "cell_type": "code",
   "execution_count": 16,
   "id": "6cc1bc67",
   "metadata": {},
   "outputs": [
    {
     "name": "stdout",
     "output_type": "stream",
     "text": [
      "Optimal solution with at least 3 different carbohydrate sources, at least 1 and most 2 vegetable sources and chocolate allergy:\n",
      "----------------------------------------------------------------------------------------------------\n",
      "Portion_3.3%_Fat,Whole_Milk = 3.1245441\n",
      "Portion_Butter,Regular = 1.7664908\n",
      "Portion_Lettuce,Iceberg,Raw = 0.5\n",
      "Portion_Peanut_Butter = 1.1594033\n",
      "Portion_Popcorn,Air_Popped = 3.048301\n",
      "Portion_Potatoes,_Baked = 1.9027786\n",
      "Portion_Scrambled_Eggs = 0.55402644\n",
      "Portion_Tomato_Soup = 0.53138947\n",
      "Portion_Wheat_Bread = 0.69593787\n",
      "Portion_White_Bread = 0.5\n"
     ]
    }
   ],
   "source": [
    "print(\"Optimal solution with at least 3 different carbohydrate sources,\\\n",
    " at least 1 and most 2 vegetable sources and chocolate allergy:\\n\"+\"-\"*100)\n",
    "for v in prob.variables():\n",
    "    if v.varValue>0 and v.name[0]=='P':\n",
    "        print(v.name, \"=\", v.varValue)"
   ]
  },
  {
   "cell_type": "code",
   "execution_count": 17,
   "id": "36b0a2e0",
   "metadata": {},
   "outputs": [
    {
     "name": "stdout",
     "output_type": "stream",
     "text": [
      "Total cost of this balanced diet is: $1.25\n"
     ]
    }
   ],
   "source": [
    "print(\"Total cost of this balanced diet is: ${}\".format(round(value(prob.objective),2)))"
   ]
  },
  {
   "cell_type": "code",
   "execution_count": 18,
   "id": "ed3ef60e",
   "metadata": {},
   "outputs": [],
   "source": [
    "df2 = df[df[\"Celiac\"]!=\"x\"]"
   ]
  },
  {
   "cell_type": "code",
   "execution_count": 19,
   "id": "317698a2",
   "metadata": {},
   "outputs": [
    {
     "data": {
      "text/plain": [
       "37"
      ]
     },
     "execution_count": 19,
     "metadata": {},
     "output_type": "execute_result"
    }
   ],
   "source": [
    "len(df2)"
   ]
  },
  {
   "cell_type": "code",
   "execution_count": 20,
   "id": "5f2069b0",
   "metadata": {},
   "outputs": [
    {
     "data": {
      "text/html": [
       "<div>\n",
       "<style scoped>\n",
       "    .dataframe tbody tr th:only-of-type {\n",
       "        vertical-align: middle;\n",
       "    }\n",
       "\n",
       "    .dataframe tbody tr th {\n",
       "        vertical-align: top;\n",
       "    }\n",
       "\n",
       "    .dataframe thead th {\n",
       "        text-align: right;\n",
       "    }\n",
       "</style>\n",
       "<table border=\"1\" class=\"dataframe\">\n",
       "  <thead>\n",
       "    <tr style=\"text-align: right;\">\n",
       "      <th></th>\n",
       "      <th>Foods</th>\n",
       "      <th>Price/ Serving</th>\n",
       "      <th>Serving Size</th>\n",
       "      <th>Calories</th>\n",
       "      <th>Cholesterol mg</th>\n",
       "      <th>Total_Fat g</th>\n",
       "      <th>Sodium mg</th>\n",
       "      <th>Carbohydrates g</th>\n",
       "      <th>Dietary_Fiber g</th>\n",
       "      <th>Protein g</th>\n",
       "      <th>Vit_A IU</th>\n",
       "      <th>Vit_C IU</th>\n",
       "      <th>Calcium mg</th>\n",
       "      <th>Iron mg</th>\n",
       "      <th>Celiac</th>\n",
       "    </tr>\n",
       "  </thead>\n",
       "  <tbody>\n",
       "    <tr>\n",
       "      <th>0</th>\n",
       "      <td>Frozen Broccoli</td>\n",
       "      <td>0.16</td>\n",
       "      <td>10 Oz Pkg</td>\n",
       "      <td>73.8</td>\n",
       "      <td>0.0</td>\n",
       "      <td>0.8</td>\n",
       "      <td>68.2</td>\n",
       "      <td>13.6</td>\n",
       "      <td>8.5</td>\n",
       "      <td>8.0</td>\n",
       "      <td>5867.4</td>\n",
       "      <td>160.2</td>\n",
       "      <td>159.0</td>\n",
       "      <td>2.3</td>\n",
       "      <td>NaN</td>\n",
       "    </tr>\n",
       "    <tr>\n",
       "      <th>1</th>\n",
       "      <td>Carrots,Raw</td>\n",
       "      <td>0.07</td>\n",
       "      <td>1/2 Cup Shredded</td>\n",
       "      <td>23.7</td>\n",
       "      <td>0.0</td>\n",
       "      <td>0.1</td>\n",
       "      <td>19.2</td>\n",
       "      <td>5.6</td>\n",
       "      <td>1.6</td>\n",
       "      <td>0.6</td>\n",
       "      <td>15471.0</td>\n",
       "      <td>5.1</td>\n",
       "      <td>14.9</td>\n",
       "      <td>0.3</td>\n",
       "      <td>NaN</td>\n",
       "    </tr>\n",
       "    <tr>\n",
       "      <th>2</th>\n",
       "      <td>Celery, Raw</td>\n",
       "      <td>0.04</td>\n",
       "      <td>1 Stalk</td>\n",
       "      <td>6.4</td>\n",
       "      <td>0.0</td>\n",
       "      <td>0.1</td>\n",
       "      <td>34.8</td>\n",
       "      <td>1.5</td>\n",
       "      <td>0.7</td>\n",
       "      <td>0.3</td>\n",
       "      <td>53.6</td>\n",
       "      <td>2.8</td>\n",
       "      <td>16.0</td>\n",
       "      <td>0.2</td>\n",
       "      <td>NaN</td>\n",
       "    </tr>\n",
       "    <tr>\n",
       "      <th>3</th>\n",
       "      <td>Frozen Corn</td>\n",
       "      <td>0.18</td>\n",
       "      <td>1/2 Cup</td>\n",
       "      <td>72.2</td>\n",
       "      <td>0.0</td>\n",
       "      <td>0.6</td>\n",
       "      <td>2.5</td>\n",
       "      <td>17.1</td>\n",
       "      <td>2.0</td>\n",
       "      <td>2.5</td>\n",
       "      <td>106.6</td>\n",
       "      <td>5.2</td>\n",
       "      <td>3.3</td>\n",
       "      <td>0.3</td>\n",
       "      <td>NaN</td>\n",
       "    </tr>\n",
       "    <tr>\n",
       "      <th>4</th>\n",
       "      <td>Lettuce,Iceberg,Raw</td>\n",
       "      <td>0.02</td>\n",
       "      <td>1 Leaf</td>\n",
       "      <td>2.6</td>\n",
       "      <td>0.0</td>\n",
       "      <td>0.0</td>\n",
       "      <td>1.8</td>\n",
       "      <td>0.4</td>\n",
       "      <td>0.3</td>\n",
       "      <td>0.2</td>\n",
       "      <td>66.0</td>\n",
       "      <td>0.8</td>\n",
       "      <td>3.8</td>\n",
       "      <td>0.1</td>\n",
       "      <td>NaN</td>\n",
       "    </tr>\n",
       "    <tr>\n",
       "      <th>5</th>\n",
       "      <td>Peppers, Sweet, Raw</td>\n",
       "      <td>0.53</td>\n",
       "      <td>1 Pepper</td>\n",
       "      <td>20.0</td>\n",
       "      <td>0.0</td>\n",
       "      <td>0.1</td>\n",
       "      <td>1.5</td>\n",
       "      <td>4.8</td>\n",
       "      <td>1.3</td>\n",
       "      <td>0.7</td>\n",
       "      <td>467.7</td>\n",
       "      <td>66.1</td>\n",
       "      <td>6.7</td>\n",
       "      <td>0.3</td>\n",
       "      <td>NaN</td>\n",
       "    </tr>\n",
       "    <tr>\n",
       "      <th>6</th>\n",
       "      <td>Potatoes, Baked</td>\n",
       "      <td>0.06</td>\n",
       "      <td>1/2 Cup</td>\n",
       "      <td>171.5</td>\n",
       "      <td>0.0</td>\n",
       "      <td>0.2</td>\n",
       "      <td>15.2</td>\n",
       "      <td>39.9</td>\n",
       "      <td>3.2</td>\n",
       "      <td>3.7</td>\n",
       "      <td>0.0</td>\n",
       "      <td>15.6</td>\n",
       "      <td>22.7</td>\n",
       "      <td>4.3</td>\n",
       "      <td>NaN</td>\n",
       "    </tr>\n",
       "    <tr>\n",
       "      <th>7</th>\n",
       "      <td>Tofu</td>\n",
       "      <td>0.31</td>\n",
       "      <td>1/4 block</td>\n",
       "      <td>88.2</td>\n",
       "      <td>0.0</td>\n",
       "      <td>5.5</td>\n",
       "      <td>8.1</td>\n",
       "      <td>2.2</td>\n",
       "      <td>1.4</td>\n",
       "      <td>9.4</td>\n",
       "      <td>98.6</td>\n",
       "      <td>0.1</td>\n",
       "      <td>121.8</td>\n",
       "      <td>6.2</td>\n",
       "      <td>NaN</td>\n",
       "    </tr>\n",
       "    <tr>\n",
       "      <th>8</th>\n",
       "      <td>Roasted Chicken</td>\n",
       "      <td>0.84</td>\n",
       "      <td>1 lb chicken</td>\n",
       "      <td>277.4</td>\n",
       "      <td>129.9</td>\n",
       "      <td>10.8</td>\n",
       "      <td>125.6</td>\n",
       "      <td>0.0</td>\n",
       "      <td>0.0</td>\n",
       "      <td>42.2</td>\n",
       "      <td>77.4</td>\n",
       "      <td>0.0</td>\n",
       "      <td>21.9</td>\n",
       "      <td>1.8</td>\n",
       "      <td>NaN</td>\n",
       "    </tr>\n",
       "    <tr>\n",
       "      <th>9</th>\n",
       "      <td>Tomato,Red,Ripe,Raw</td>\n",
       "      <td>0.27</td>\n",
       "      <td>1 Tomato, 2-3/5 In</td>\n",
       "      <td>25.8</td>\n",
       "      <td>0.0</td>\n",
       "      <td>0.4</td>\n",
       "      <td>11.1</td>\n",
       "      <td>5.7</td>\n",
       "      <td>1.4</td>\n",
       "      <td>1.0</td>\n",
       "      <td>766.3</td>\n",
       "      <td>23.5</td>\n",
       "      <td>6.2</td>\n",
       "      <td>0.6</td>\n",
       "      <td>NaN</td>\n",
       "    </tr>\n",
       "  </tbody>\n",
       "</table>\n",
       "</div>"
      ],
      "text/plain": [
       "                 Foods  Price/ Serving        Serving Size  Calories  \\\n",
       "0      Frozen Broccoli            0.16           10 Oz Pkg      73.8   \n",
       "1          Carrots,Raw            0.07    1/2 Cup Shredded      23.7   \n",
       "2          Celery, Raw            0.04             1 Stalk       6.4   \n",
       "3          Frozen Corn            0.18             1/2 Cup      72.2   \n",
       "4  Lettuce,Iceberg,Raw            0.02              1 Leaf       2.6   \n",
       "5  Peppers, Sweet, Raw            0.53            1 Pepper      20.0   \n",
       "6      Potatoes, Baked            0.06             1/2 Cup     171.5   \n",
       "7                 Tofu            0.31           1/4 block      88.2   \n",
       "8      Roasted Chicken            0.84        1 lb chicken     277.4   \n",
       "9  Tomato,Red,Ripe,Raw            0.27  1 Tomato, 2-3/5 In      25.8   \n",
       "\n",
       "   Cholesterol mg  Total_Fat g  Sodium mg  Carbohydrates g  Dietary_Fiber g  \\\n",
       "0             0.0          0.8       68.2             13.6              8.5   \n",
       "1             0.0          0.1       19.2              5.6              1.6   \n",
       "2             0.0          0.1       34.8              1.5              0.7   \n",
       "3             0.0          0.6        2.5             17.1              2.0   \n",
       "4             0.0          0.0        1.8              0.4              0.3   \n",
       "5             0.0          0.1        1.5              4.8              1.3   \n",
       "6             0.0          0.2       15.2             39.9              3.2   \n",
       "7             0.0          5.5        8.1              2.2              1.4   \n",
       "8           129.9         10.8      125.6              0.0              0.0   \n",
       "9             0.0          0.4       11.1              5.7              1.4   \n",
       "\n",
       "   Protein g  Vit_A IU  Vit_C IU  Calcium mg  Iron mg  Celiac  \n",
       "0        8.0    5867.4     160.2       159.0      2.3     NaN  \n",
       "1        0.6   15471.0       5.1        14.9      0.3     NaN  \n",
       "2        0.3      53.6       2.8        16.0      0.2     NaN  \n",
       "3        2.5     106.6       5.2         3.3      0.3     NaN  \n",
       "4        0.2      66.0       0.8         3.8      0.1     NaN  \n",
       "5        0.7     467.7      66.1         6.7      0.3     NaN  \n",
       "6        3.7       0.0      15.6        22.7      4.3     NaN  \n",
       "7        9.4      98.6       0.1       121.8      6.2     NaN  \n",
       "8       42.2      77.4       0.0        21.9      1.8     NaN  \n",
       "9        1.0     766.3      23.5         6.2      0.6     NaN  "
      ]
     },
     "execution_count": 20,
     "metadata": {},
     "output_type": "execute_result"
    }
   ],
   "source": [
    "df2.to_csv('celiac_diet.csv',index=False)\n",
    "df2_celiac_diet = pd.read_csv('celiac_diet.csv', sep=',')\n",
    "df2_celiac_diet.head(10)"
   ]
  },
  {
   "cell_type": "code",
   "execution_count": 21,
   "id": "387bd0f6",
   "metadata": {},
   "outputs": [
    {
     "name": "stderr",
     "output_type": "stream",
     "text": [
      "C:\\Users\\fbmer\\anaconda3\\lib\\site-packages\\pulp\\pulp.py:1352: UserWarning: Spaces are not permitted in the name. Converted to '_'\n",
      "  warnings.warn(\"Spaces are not permitted in the name. Converted to '_'\")\n"
     ]
    }
   ],
   "source": [
    "prob2 = LpProblem(\"Diet Problem For Celiac Diseases\",LpMinimize)"
   ]
  },
  {
   "cell_type": "code",
   "execution_count": 22,
   "id": "97b99bda",
   "metadata": {},
   "outputs": [],
   "source": [
    "# buradan sonra \n",
    "food_names = list(df2_celiac_diet['Foods'])\n",
    "costs = dict(zip(food_names,df2_celiac_diet['Price/ Serving']))\n",
    "calories = dict(zip(food_names,df2_celiac_diet['Calories']))\n",
    "cholesterol = dict(zip(food_names,df2_celiac_diet['Cholesterol mg']))\n",
    "fat = dict(zip(food_names,df2_celiac_diet['Total_Fat g']))\n",
    "sodium = dict(zip(food_names,df2_celiac_diet['Sodium mg']))\n",
    "carbs = dict(zip(food_names,df2_celiac_diet['Carbohydrates g']))\n",
    "fiber = dict(zip(food_names,df2_celiac_diet['Dietary_Fiber g']))\n",
    "protein = dict(zip(food_names,df2_celiac_diet['Protein g']))\n",
    "vit_A = dict(zip(food_names,df2_celiac_diet['Vit_A IU']))\n",
    "vit_C = dict(zip(food_names,df2_celiac_diet['Vit_C IU']))\n",
    "calcium = dict(zip(food_names,df2_celiac_diet['Calcium mg']))\n",
    "iron = dict(zip(food_names,df2_celiac_diet['Iron mg']))"
   ]
  },
  {
   "cell_type": "code",
   "execution_count": 23,
   "id": "b8a44347",
   "metadata": {},
   "outputs": [],
   "source": [
    "# A dictionary called 'food_vars' is created to contain the referenced Variables\n",
    "food_prt = LpVariable.dicts(\"Portion\",food_names,0,cat='Continuous')\n",
    "food_chosen = LpVariable.dicts(\"Chosen\",food_names,cat='Binary')\n",
    "prob2 += lpSum([costs[i]*food_prt[i] for i in food_names])"
   ]
  },
  {
   "cell_type": "code",
   "execution_count": 24,
   "id": "5660326e",
   "metadata": {},
   "outputs": [],
   "source": [
    "# Calorie\n",
    "prob2 += lpSum([calories[f] * food_prt[f] for f in food_names]) >= 1600.0, \"CalorieMinimum\"\n",
    "prob2 += lpSum([calories[f] * food_prt[f] for f in food_names]) <= 2400.0, \"CalorieMaximum\"\n",
    "\n",
    "# Cholesterol\n",
    "prob2 += lpSum([cholesterol[f] * food_prt[f] for f in food_names]) >= 240.0, \"CholesterolMinimum\"\n",
    "prob2 += lpSum([cholesterol[f] * food_prt[f] for f in food_names]) <= 360.0, \"CholesterolMaximum\"\n",
    "\n",
    "# Fat\n",
    "prob2 += lpSum([fat[f] * food_prt[f] for f in food_names]) >= 62.4, \"FatMinimum\"\n",
    "prob2 += lpSum([fat[f] * food_prt[f] for f in food_names]) <= 93.6, \"FatMaximum\"\n",
    "\n",
    "# Sodium\n",
    "prob2 += lpSum([sodium[f] * food_prt[f] for f in food_names]) >= 1840.0, \"SodiumMinimum\"\n",
    "prob2 += lpSum([sodium[f] * food_prt[f] for f in food_names]) <= 2760.0, \"SodiumMaximum\"\n",
    "\n",
    "# Carbs\n",
    "prob2 += lpSum([carbs[f] * food_prt[f] for f in food_names]) >= 220.0, \"CarbsMinimum\"\n",
    "prob2 += lpSum([carbs[f] * food_prt[f] for f in food_names]) <= 330.0, \"CarbsMaximum\"\n",
    "\n",
    "# Fiber\n",
    "prob2 += lpSum([fiber[f] * food_prt[f] for f in food_names]) >= 22.4, \"FiberMinimum\"\n",
    "prob2 += lpSum([fiber[f] * food_prt[f] for f in food_names]) <= 33.6, \"FiberMaximum\"\n",
    "\n",
    "# Protein\n",
    "prob2 += lpSum([protein[f] * food_prt[f] for f in food_names]) >= 40.0, \"ProteinMinimum\"\n",
    "prob2 += lpSum([protein[f] * food_prt[f] for f in food_names]) <= 60.0, \"ProteinMaximum\"\n",
    "\n",
    "# Vitamin A\n",
    "prob2 += lpSum([vit_A[f] * food_prt[f] for f in food_names]) >= 2400.0, \"VitaminAMinimum\"\n",
    "prob2 += lpSum([vit_A[f] * food_prt[f] for f in food_names]) <= 3600.0, \"VitaminAMaximum\"\n",
    "\n",
    "# Vitamin C\n",
    "prob2 += lpSum([vit_C[f] * food_prt[f] for f in food_names]) >= 72.0, \"VitaminCMinimum\"\n",
    "prob2 += lpSum([vit_C[f] * food_prt[f] for f in food_names]) <= 108.0, \"VitaminCMaximum\"\n",
    "\n",
    "# Calcium\n",
    "prob2 += lpSum([calcium[f] * food_prt[f] for f in food_names]) >= 1040.0, \"CalciumMinimum\"\n",
    "prob2 += lpSum([calcium[f] * food_prt[f] for f in food_names]) <= 1560.0, \"CalciumMaximum\"\n",
    "\n",
    "# Iron\n",
    "prob2 += lpSum([iron[f] * food_prt[f] for f in food_names]) >= 14.4, \"IronMinimum\"\n",
    "prob2 += lpSum([iron[f] * food_prt[f] for f in food_names]) <= 21.6, \"IronMaximum\""
   ]
  },
  {
   "cell_type": "code",
   "execution_count": 25,
   "id": "158c4e9f",
   "metadata": {},
   "outputs": [],
   "source": [
    "for f in food_names:\n",
    "    prob2 += food_prt[f]>= food_chosen[f]*0.5\n",
    "    prob2 += food_prt[f]<= food_chosen[f]*10"
   ]
  },
  {
   "cell_type": "code",
   "execution_count": 26,
   "id": "a0123cef",
   "metadata": {},
   "outputs": [
    {
     "data": {
      "text/plain": [
       "['GLPK_CMD',\n",
       " 'PYGLPK',\n",
       " 'CPLEX_CMD',\n",
       " 'CPLEX_PY',\n",
       " 'GUROBI',\n",
       " 'GUROBI_CMD',\n",
       " 'MOSEK',\n",
       " 'XPRESS',\n",
       " 'PULP_CBC_CMD',\n",
       " 'COIN_CMD',\n",
       " 'COINMP_DLL',\n",
       " 'CHOCO_CMD',\n",
       " 'MIPCL_CMD',\n",
       " 'SCIP_CMD']"
      ]
     },
     "execution_count": 26,
     "metadata": {},
     "output_type": "execute_result"
    }
   ],
   "source": [
    "listSolvers()"
   ]
  },
  {
   "cell_type": "code",
   "execution_count": 27,
   "id": "fcdaba64",
   "metadata": {},
   "outputs": [
    {
     "name": "stdout",
     "output_type": "stream",
     "text": [
      "Status: Optimal\n"
     ]
    }
   ],
   "source": [
    "prob2.solve(GLPK_CMD())\n",
    "print(\"Status:\", LpStatus[prob2.status])"
   ]
  },
  {
   "cell_type": "code",
   "execution_count": 28,
   "id": "49dd3ddc",
   "metadata": {},
   "outputs": [
    {
     "name": "stdout",
     "output_type": "stream",
     "text": [
      "Optimal solution for celiac diseases:\n",
      "----------------------------------------\n",
      "Portion_3.3%_Fat,Whole_Milk = 3.07087\n",
      "Portion_Butter,Regular = 2.07434\n",
      "Portion_Chicknoodl_Soup = 0.572045\n",
      "Portion_Oranges = 0.5\n",
      "Portion_Peanut_Butter = 1.30894\n",
      "Portion_Poached_Eggs = 0.512533\n",
      "Portion_Popcorn,Air_Popped = 1.83226\n",
      "Portion_Potatoes,_Baked = 2.92638\n"
     ]
    }
   ],
   "source": [
    "print(\"Optimal solution for celiac diseases:\\n\"+\"-\"*40)\n",
    "for v in prob2.variables():\n",
    "    if v.varValue>0 and v.name[0]=='P':\n",
    "        print(v.name, \"=\", v.varValue)"
   ]
  },
  {
   "cell_type": "code",
   "execution_count": 29,
   "id": "5671cf6f",
   "metadata": {},
   "outputs": [
    {
     "name": "stdout",
     "output_type": "stream",
     "text": [
      "Total cost of this balanced diet is: $1.27\n"
     ]
    }
   ],
   "source": [
    "print(\"Total cost of this balanced diet is: ${}\".format(round(value(prob2.objective),2)))"
   ]
  },
  {
   "cell_type": "code",
   "execution_count": null,
   "id": "b02cd1cf",
   "metadata": {},
   "outputs": [],
   "source": []
  }
 ],
 "metadata": {
  "kernelspec": {
   "display_name": "Python 3 (ipykernel)",
   "language": "python",
   "name": "python3"
  },
  "language_info": {
   "codemirror_mode": {
    "name": "ipython",
    "version": 3
   },
   "file_extension": ".py",
   "mimetype": "text/x-python",
   "name": "python",
   "nbconvert_exporter": "python",
   "pygments_lexer": "ipython3",
   "version": "3.9.7"
  }
 },
 "nbformat": 4,
 "nbformat_minor": 5
}
